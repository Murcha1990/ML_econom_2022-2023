{
 "cells": [
  {
   "cell_type": "markdown",
   "id": "3f5e636c",
   "metadata": {},
   "source": [
    "# Темы семинара: отбор признаков и приложения\n",
    "\n",
    "- Фильтрационные методы\n",
    "- Оберточные методы\n",
    "- Встроенные методы\n",
    "- Нелинейные классификаторы\n",
    "- Сохранение модели"
   ]
  },
  {
   "cell_type": "code",
   "execution_count": 4,
   "id": "aed61698",
   "metadata": {
    "ExecuteTime": {
     "end_time": "2021-10-24T20:18:13.375480Z",
     "start_time": "2021-10-24T20:18:12.954646Z"
    }
   },
   "outputs": [],
   "source": [
    "import pandas as pd"
   ]
  },
  {
   "cell_type": "code",
   "execution_count": 5,
   "id": "29a2c646",
   "metadata": {
    "ExecuteTime": {
     "end_time": "2021-10-24T20:18:13.744445Z",
     "start_time": "2021-10-24T20:18:13.737712Z"
    }
   },
   "outputs": [],
   "source": [
    "data = pd.read_csv('Pokemon.csv')"
   ]
  },
  {
   "cell_type": "code",
   "execution_count": 6,
   "id": "69a8299d",
   "metadata": {
    "ExecuteTime": {
     "end_time": "2021-10-24T20:18:14.174945Z",
     "start_time": "2021-10-24T20:18:14.154295Z"
    }
   },
   "outputs": [
    {
     "data": {
      "text/html": [
       "<div>\n",
       "<style scoped>\n",
       "    .dataframe tbody tr th:only-of-type {\n",
       "        vertical-align: middle;\n",
       "    }\n",
       "\n",
       "    .dataframe tbody tr th {\n",
       "        vertical-align: top;\n",
       "    }\n",
       "\n",
       "    .dataframe thead th {\n",
       "        text-align: right;\n",
       "    }\n",
       "</style>\n",
       "<table border=\"1\" class=\"dataframe\">\n",
       "  <thead>\n",
       "    <tr style=\"text-align: right;\">\n",
       "      <th></th>\n",
       "      <th>#</th>\n",
       "      <th>Name</th>\n",
       "      <th>Type 1</th>\n",
       "      <th>Type 2</th>\n",
       "      <th>Total</th>\n",
       "      <th>HP</th>\n",
       "      <th>Attack</th>\n",
       "      <th>Defense</th>\n",
       "      <th>Sp. Atk</th>\n",
       "      <th>Sp. Def</th>\n",
       "      <th>Speed</th>\n",
       "      <th>Generation</th>\n",
       "      <th>Legendary</th>\n",
       "    </tr>\n",
       "  </thead>\n",
       "  <tbody>\n",
       "    <tr>\n",
       "      <th>0</th>\n",
       "      <td>1</td>\n",
       "      <td>Bulbasaur</td>\n",
       "      <td>Grass</td>\n",
       "      <td>Poison</td>\n",
       "      <td>318</td>\n",
       "      <td>45</td>\n",
       "      <td>49</td>\n",
       "      <td>49</td>\n",
       "      <td>65</td>\n",
       "      <td>65</td>\n",
       "      <td>45</td>\n",
       "      <td>1</td>\n",
       "      <td>False</td>\n",
       "    </tr>\n",
       "    <tr>\n",
       "      <th>1</th>\n",
       "      <td>2</td>\n",
       "      <td>Ivysaur</td>\n",
       "      <td>Grass</td>\n",
       "      <td>Poison</td>\n",
       "      <td>405</td>\n",
       "      <td>60</td>\n",
       "      <td>62</td>\n",
       "      <td>63</td>\n",
       "      <td>80</td>\n",
       "      <td>80</td>\n",
       "      <td>60</td>\n",
       "      <td>1</td>\n",
       "      <td>False</td>\n",
       "    </tr>\n",
       "    <tr>\n",
       "      <th>2</th>\n",
       "      <td>3</td>\n",
       "      <td>Venusaur</td>\n",
       "      <td>Grass</td>\n",
       "      <td>Poison</td>\n",
       "      <td>525</td>\n",
       "      <td>80</td>\n",
       "      <td>82</td>\n",
       "      <td>83</td>\n",
       "      <td>100</td>\n",
       "      <td>100</td>\n",
       "      <td>80</td>\n",
       "      <td>1</td>\n",
       "      <td>False</td>\n",
       "    </tr>\n",
       "    <tr>\n",
       "      <th>3</th>\n",
       "      <td>3</td>\n",
       "      <td>VenusaurMega Venusaur</td>\n",
       "      <td>Grass</td>\n",
       "      <td>Poison</td>\n",
       "      <td>625</td>\n",
       "      <td>80</td>\n",
       "      <td>100</td>\n",
       "      <td>123</td>\n",
       "      <td>122</td>\n",
       "      <td>120</td>\n",
       "      <td>80</td>\n",
       "      <td>1</td>\n",
       "      <td>False</td>\n",
       "    </tr>\n",
       "    <tr>\n",
       "      <th>4</th>\n",
       "      <td>4</td>\n",
       "      <td>Charmander</td>\n",
       "      <td>Fire</td>\n",
       "      <td>NaN</td>\n",
       "      <td>309</td>\n",
       "      <td>39</td>\n",
       "      <td>52</td>\n",
       "      <td>43</td>\n",
       "      <td>60</td>\n",
       "      <td>50</td>\n",
       "      <td>65</td>\n",
       "      <td>1</td>\n",
       "      <td>False</td>\n",
       "    </tr>\n",
       "    <tr>\n",
       "      <th>...</th>\n",
       "      <td>...</td>\n",
       "      <td>...</td>\n",
       "      <td>...</td>\n",
       "      <td>...</td>\n",
       "      <td>...</td>\n",
       "      <td>...</td>\n",
       "      <td>...</td>\n",
       "      <td>...</td>\n",
       "      <td>...</td>\n",
       "      <td>...</td>\n",
       "      <td>...</td>\n",
       "      <td>...</td>\n",
       "      <td>...</td>\n",
       "    </tr>\n",
       "    <tr>\n",
       "      <th>795</th>\n",
       "      <td>719</td>\n",
       "      <td>Diancie</td>\n",
       "      <td>Rock</td>\n",
       "      <td>Fairy</td>\n",
       "      <td>600</td>\n",
       "      <td>50</td>\n",
       "      <td>100</td>\n",
       "      <td>150</td>\n",
       "      <td>100</td>\n",
       "      <td>150</td>\n",
       "      <td>50</td>\n",
       "      <td>6</td>\n",
       "      <td>True</td>\n",
       "    </tr>\n",
       "    <tr>\n",
       "      <th>796</th>\n",
       "      <td>719</td>\n",
       "      <td>DiancieMega Diancie</td>\n",
       "      <td>Rock</td>\n",
       "      <td>Fairy</td>\n",
       "      <td>700</td>\n",
       "      <td>50</td>\n",
       "      <td>160</td>\n",
       "      <td>110</td>\n",
       "      <td>160</td>\n",
       "      <td>110</td>\n",
       "      <td>110</td>\n",
       "      <td>6</td>\n",
       "      <td>True</td>\n",
       "    </tr>\n",
       "    <tr>\n",
       "      <th>797</th>\n",
       "      <td>720</td>\n",
       "      <td>HoopaHoopa Confined</td>\n",
       "      <td>Psychic</td>\n",
       "      <td>Ghost</td>\n",
       "      <td>600</td>\n",
       "      <td>80</td>\n",
       "      <td>110</td>\n",
       "      <td>60</td>\n",
       "      <td>150</td>\n",
       "      <td>130</td>\n",
       "      <td>70</td>\n",
       "      <td>6</td>\n",
       "      <td>True</td>\n",
       "    </tr>\n",
       "    <tr>\n",
       "      <th>798</th>\n",
       "      <td>720</td>\n",
       "      <td>HoopaHoopa Unbound</td>\n",
       "      <td>Psychic</td>\n",
       "      <td>Dark</td>\n",
       "      <td>680</td>\n",
       "      <td>80</td>\n",
       "      <td>160</td>\n",
       "      <td>60</td>\n",
       "      <td>170</td>\n",
       "      <td>130</td>\n",
       "      <td>80</td>\n",
       "      <td>6</td>\n",
       "      <td>True</td>\n",
       "    </tr>\n",
       "    <tr>\n",
       "      <th>799</th>\n",
       "      <td>721</td>\n",
       "      <td>Volcanion</td>\n",
       "      <td>Fire</td>\n",
       "      <td>Water</td>\n",
       "      <td>600</td>\n",
       "      <td>80</td>\n",
       "      <td>110</td>\n",
       "      <td>120</td>\n",
       "      <td>130</td>\n",
       "      <td>90</td>\n",
       "      <td>70</td>\n",
       "      <td>6</td>\n",
       "      <td>True</td>\n",
       "    </tr>\n",
       "  </tbody>\n",
       "</table>\n",
       "<p>800 rows × 13 columns</p>\n",
       "</div>"
      ],
      "text/plain": [
       "       #                   Name   Type 1  Type 2  Total  HP  Attack  Defense  \\\n",
       "0      1              Bulbasaur    Grass  Poison    318  45      49       49   \n",
       "1      2                Ivysaur    Grass  Poison    405  60      62       63   \n",
       "2      3               Venusaur    Grass  Poison    525  80      82       83   \n",
       "3      3  VenusaurMega Venusaur    Grass  Poison    625  80     100      123   \n",
       "4      4             Charmander     Fire     NaN    309  39      52       43   \n",
       "..   ...                    ...      ...     ...    ...  ..     ...      ...   \n",
       "795  719                Diancie     Rock   Fairy    600  50     100      150   \n",
       "796  719    DiancieMega Diancie     Rock   Fairy    700  50     160      110   \n",
       "797  720    HoopaHoopa Confined  Psychic   Ghost    600  80     110       60   \n",
       "798  720     HoopaHoopa Unbound  Psychic    Dark    680  80     160       60   \n",
       "799  721              Volcanion     Fire   Water    600  80     110      120   \n",
       "\n",
       "     Sp. Atk  Sp. Def  Speed  Generation  Legendary  \n",
       "0         65       65     45           1      False  \n",
       "1         80       80     60           1      False  \n",
       "2        100      100     80           1      False  \n",
       "3        122      120     80           1      False  \n",
       "4         60       50     65           1      False  \n",
       "..       ...      ...    ...         ...        ...  \n",
       "795      100      150     50           6       True  \n",
       "796      160      110    110           6       True  \n",
       "797      150      130     70           6       True  \n",
       "798      170      130     80           6       True  \n",
       "799      130       90     70           6       True  \n",
       "\n",
       "[800 rows x 13 columns]"
      ]
     },
     "execution_count": 6,
     "metadata": {},
     "output_type": "execute_result"
    }
   ],
   "source": [
    "data"
   ]
  },
  {
   "cell_type": "markdown",
   "id": "40294270",
   "metadata": {},
   "source": [
    "Columns description (it's crucial!)\n",
    "\n",
    "\n",
    "- #: ID for each pokemon\n",
    "- Name: Name of each pokemon\n",
    "- Type 1: Each pokemon has a type, this determines weakness/resistance to attacks\n",
    "- Type 2: Some pokemon are dual type and have 2\n",
    "- Total: sum of all stats that come after this, a general guide to how strong a pokemon is\n",
    "- HP: hit points, or health, defines how much damage a pokemon can withstand before fainting\n",
    "- Attack: the base modifier for normal attacks (eg. Scratch, Punch)\n",
    "- Defense: the base damage resistance against normal attacks\n",
    "- SP Atk: special attack, the base modifier for special attacks (e.g. fire blast, bubble beam)\n",
    "- SP Def: the base damage resistance against special attacks\n",
    "- Speed: determines which pokemon attacks first each round"
   ]
  },
  {
   "cell_type": "code",
   "execution_count": 7,
   "id": "4a271f5c",
   "metadata": {
    "ExecuteTime": {
     "end_time": "2021-10-24T20:18:18.393785Z",
     "start_time": "2021-10-24T20:18:18.385916Z"
    }
   },
   "outputs": [
    {
     "data": {
      "text/plain": [
       "#               0\n",
       "Name            0\n",
       "Type 1          0\n",
       "Type 2        386\n",
       "Total           0\n",
       "HP              0\n",
       "Attack          0\n",
       "Defense         0\n",
       "Sp. Atk         0\n",
       "Sp. Def         0\n",
       "Speed           0\n",
       "Generation      0\n",
       "Legendary       0\n",
       "dtype: int64"
      ]
     },
     "metadata": {},
     "output_type": "display_data"
    }
   ],
   "source": [
    "# fillna and drop useless cols\n",
    "\n",
    "display(data.isnull().sum())\n",
    "data['Type 2'] = data['Type 2'].fillna('No 2nd type')\n",
    "\n",
    "data.drop(columns=['#', 'Name'], inplace=True)"
   ]
  },
  {
   "cell_type": "code",
   "execution_count": 8,
   "id": "6ce9d92b",
   "metadata": {
    "ExecuteTime": {
     "end_time": "2021-10-24T20:18:19.432056Z",
     "start_time": "2021-10-24T20:18:19.428250Z"
    }
   },
   "outputs": [],
   "source": [
    "X = data.drop(columns='Legendary')\n",
    "y = data['Legendary'].astype('int')"
   ]
  },
  {
   "cell_type": "code",
   "execution_count": 10,
   "id": "91c2b76a",
   "metadata": {
    "ExecuteTime": {
     "end_time": "2021-10-24T20:18:20.023876Z",
     "start_time": "2021-10-24T20:18:20.018390Z"
    }
   },
   "outputs": [
    {
     "data": {
      "text/plain": [
       "0    0.91875\n",
       "1    0.08125\n",
       "Name: Legendary, dtype: float64"
      ]
     },
     "execution_count": 10,
     "metadata": {},
     "output_type": "execute_result"
    }
   ],
   "source": [
    "y.value_counts(normalize=True)"
   ]
  },
  {
   "cell_type": "markdown",
   "id": "42ef3b76",
   "metadata": {},
   "source": [
    "# Make some default pipeline"
   ]
  },
  {
   "cell_type": "code",
   "execution_count": 12,
   "id": "d3fbc11e",
   "metadata": {
    "ExecuteTime": {
     "end_time": "2021-10-24T20:18:25.238240Z",
     "start_time": "2021-10-24T20:18:24.565781Z"
    }
   },
   "outputs": [],
   "source": [
    "from sklearn.feature_selection import SelectKBest, SelectPercentile\n",
    "from sklearn.pipeline import Pipeline\n",
    "from sklearn.preprocessing import PolynomialFeatures, StandardScaler\n",
    "from category_encoders.leave_one_out import LeaveOneOutEncoder\n",
    "from sklearn.svm import SVC\n",
    "from sklearn.model_selection import cross_validate\n",
    "import sklearn\n",
    "\n",
    "# !pip install category_encoders"
   ]
  },
  {
   "cell_type": "code",
   "execution_count": 13,
   "id": "db4dc8a2",
   "metadata": {
    "ExecuteTime": {
     "end_time": "2021-10-24T20:18:25.243494Z",
     "start_time": "2021-10-24T20:18:25.240399Z"
    }
   },
   "outputs": [],
   "source": [
    "# define cat_cols\n",
    "\n",
    "cat_cols = ['Type 1', 'Type 2']\n",
    "\n",
    "default_pipeline = Pipeline([\n",
    "    ('cat_encoder_', LeaveOneOutEncoder(cols=cat_cols)),\n",
    "    ('scaler_', StandardScaler()),\n",
    "    ('model_', SVC(kernel='linear'))]\n",
    ")"
   ]
  },
  {
   "cell_type": "code",
   "execution_count": 14,
   "id": "0388c711",
   "metadata": {
    "ExecuteTime": {
     "end_time": "2021-10-24T20:18:31.094311Z",
     "start_time": "2021-10-24T20:18:30.089861Z"
    }
   },
   "outputs": [],
   "source": [
    "cv_res1 = cross_validate(default_pipeline,\n",
    "                        X,\n",
    "                        y,\n",
    "                        cv=5,\n",
    "                        scoring='f1',\n",
    "                        n_jobs=-1,\n",
    "                        return_train_score=True\n",
    "                       )"
   ]
  },
  {
   "cell_type": "code",
   "execution_count": 15,
   "id": "5513cdd0",
   "metadata": {
    "ExecuteTime": {
     "end_time": "2021-10-24T20:18:33.772638Z",
     "start_time": "2021-10-24T20:18:33.767530Z"
    }
   },
   "outputs": [
    {
     "data": {
      "text/plain": [
       "{'fit_time': array([0.14399505, 0.14599848, 0.14699697, 0.12300086, 0.06800127]),\n",
       " 'score_time': array([0.02900171, 0.02699733, 0.02499843, 0.02499843, 0.02199888]),\n",
       " 'test_score': array([0.5       , 0.72727273, 0.47619048, 0.38095238, 0.64864865]),\n",
       " 'train_score': array([0.71287129, 0.56097561, 0.6744186 , 0.7311828 , 0.72727273])}"
      ]
     },
     "execution_count": 15,
     "metadata": {},
     "output_type": "execute_result"
    }
   ],
   "source": [
    "cv_res1"
   ]
  },
  {
   "cell_type": "code",
   "execution_count": 16,
   "id": "cdf1fdc0",
   "metadata": {
    "ExecuteTime": {
     "end_time": "2021-10-24T20:19:02.086505Z",
     "start_time": "2021-10-24T20:19:02.082394Z"
    }
   },
   "outputs": [
    {
     "data": {
      "text/plain": [
       "0.5466128466128467"
      ]
     },
     "execution_count": 16,
     "metadata": {},
     "output_type": "execute_result"
    }
   ],
   "source": [
    "cv_res1['test_score'].mean()"
   ]
  },
  {
   "cell_type": "markdown",
   "id": "417004bb",
   "metadata": {},
   "source": [
    "# Make pipeline more complicated"
   ]
  },
  {
   "cell_type": "code",
   "execution_count": 17,
   "id": "cc502d0e",
   "metadata": {
    "ExecuteTime": {
     "end_time": "2021-10-24T20:19:08.097819Z",
     "start_time": "2021-10-24T20:19:08.094458Z"
    }
   },
   "outputs": [],
   "source": [
    "# difficult pipeline\n",
    "\n",
    "pipe_dif = Pipeline([\n",
    "    ('cat_encoder_', LeaveOneOutEncoder(cols=cat_cols)),\n",
    "    ('poly_featurizer_', PolynomialFeatures(degree=4)),\n",
    "    ('scaler_', StandardScaler()),\n",
    "    ('model_', SVC(kernel='linear'))]\n",
    ")"
   ]
  },
  {
   "cell_type": "code",
   "execution_count": 18,
   "id": "7c4f8152",
   "metadata": {
    "ExecuteTime": {
     "end_time": "2021-10-24T20:19:11.534278Z",
     "start_time": "2021-10-24T20:19:10.844040Z"
    }
   },
   "outputs": [
    {
     "data": {
      "text/plain": [
       "{'fit_time': array([0.13900018, 0.15400338, 0.1470015 , 0.22099948, 0.23900008]),\n",
       " 'score_time': array([0.02400398, 0.02999854, 0.03000236, 0.02800035, 0.023     ]),\n",
       " 'test_score': array([0.375     , 0.88888889, 0.5       , 0.66666667, 0.53658537]),\n",
       " 'train_score': array([0.95145631, 0.89583333, 0.97142857, 0.96153846, 0.98076923])}"
      ]
     },
     "execution_count": 18,
     "metadata": {},
     "output_type": "execute_result"
    }
   ],
   "source": [
    "cv_res2 = cross_validate(pipe_dif,\n",
    "                        X,\n",
    "                        y,\n",
    "                        cv=5,\n",
    "                        scoring='f1',\n",
    "                        n_jobs=-1,\n",
    "                        return_train_score=True\n",
    "                       )\n",
    "\n",
    "cv_res2"
   ]
  },
  {
   "cell_type": "code",
   "execution_count": 20,
   "metadata": {},
   "outputs": [
    {
     "data": {
      "text/plain": [
       "0.9522051815498418"
      ]
     },
     "execution_count": 20,
     "metadata": {},
     "output_type": "execute_result"
    }
   ],
   "source": [
    "cv_res2['train_score'].mean()"
   ]
  },
  {
   "cell_type": "code",
   "execution_count": 19,
   "id": "12353468",
   "metadata": {
    "ExecuteTime": {
     "end_time": "2021-10-24T20:19:28.657790Z",
     "start_time": "2021-10-24T20:19:28.653899Z"
    }
   },
   "outputs": [
    {
     "data": {
      "text/plain": [
       "0.5934281842818427"
      ]
     },
     "execution_count": 19,
     "metadata": {},
     "output_type": "execute_result"
    }
   ],
   "source": [
    "cv_res2['test_score'].mean()"
   ]
  },
  {
   "cell_type": "markdown",
   "id": "e894cf72",
   "metadata": {
    "ExecuteTime": {
     "end_time": "2021-10-24T13:09:24.240561Z",
     "start_time": "2021-10-24T13:09:24.235947Z"
    }
   },
   "source": [
    "train_score - просто класс ! модель получилась сложная, только очевидно переобученная ...\n",
    "\n",
    "согласны, узнали ?\n"
   ]
  },
  {
   "cell_type": "markdown",
   "id": "a13e9e9b",
   "metadata": {},
   "source": [
    "# Introduce feature selectors"
   ]
  },
  {
   "cell_type": "code",
   "execution_count": 21,
   "id": "51585f4e",
   "metadata": {
    "ExecuteTime": {
     "end_time": "2021-10-24T20:19:41.314430Z",
     "start_time": "2021-10-24T20:19:41.311959Z"
    }
   },
   "outputs": [],
   "source": [
    "data_tr = pipe_dif[:-1]"
   ]
  },
  {
   "cell_type": "code",
   "execution_count": 22,
   "id": "9a667395",
   "metadata": {
    "ExecuteTime": {
     "end_time": "2021-10-24T20:19:41.681665Z",
     "start_time": "2021-10-24T20:19:41.675526Z"
    }
   },
   "outputs": [
    {
     "data": {
      "text/plain": [
       "Pipeline(steps=[('cat_encoder_', LeaveOneOutEncoder(cols=['Type 1', 'Type 2'])),\n",
       "                ('poly_featurizer_', PolynomialFeatures(degree=4)),\n",
       "                ('scaler_', StandardScaler())])"
      ]
     },
     "execution_count": 22,
     "metadata": {},
     "output_type": "execute_result"
    }
   ],
   "source": [
    "data_tr"
   ]
  },
  {
   "cell_type": "code",
   "execution_count": 23,
   "id": "0703abb4",
   "metadata": {
    "ExecuteTime": {
     "end_time": "2021-10-24T20:19:42.141996Z",
     "start_time": "2021-10-24T20:19:42.095336Z"
    }
   },
   "outputs": [
    {
     "name": "stdout",
     "output_type": "stream",
     "text": [
      "data shape after transformation is (800, 1001)\n"
     ]
    },
    {
     "name": "stderr",
     "output_type": "stream",
     "text": [
      "c:\\programdata\\miniconda3\\lib\\site-packages\\category_encoders\\utils.py:21: FutureWarning: is_categorical is deprecated and will be removed in a future version.  Use is_categorical_dtype instead\n",
      "  elif pd.api.types.is_categorical(cols):\n"
     ]
    }
   ],
   "source": [
    "X_tr = data_tr.fit_transform(X, y)\n",
    "print(f'data shape after transformation is {X_tr.shape}')"
   ]
  },
  {
   "cell_type": "markdown",
   "id": "5e8cf9f1",
   "metadata": {},
   "source": [
    "1k признаков - многовато, добавим в пайплайн селектор"
   ]
  },
  {
   "cell_type": "markdown",
   "id": "940c6af8",
   "metadata": {},
   "source": [
    "## Фильтрационные методы\n",
    "\n",
    "Суть таких методов в том, чтобы для каждого признака посчитать некоторую метрику \"связи\" с целевым признаком. И в результате оставить топ-K признаков согласно выбранной метрике.\n",
    "\n",
    "В том числе на лекции обсуждались:\n",
    "\n",
    " - статистика хи-квадрат\n",
    " - метрика mutual information"
   ]
  },
  {
   "cell_type": "code",
   "execution_count": 24,
   "id": "add09679",
   "metadata": {
    "ExecuteTime": {
     "end_time": "2021-10-24T20:19:58.410888Z",
     "start_time": "2021-10-24T20:19:58.408446Z"
    }
   },
   "outputs": [],
   "source": [
    "from sklearn.feature_selection import f_classif, chi2, mutual_info_classif"
   ]
  },
  {
   "cell_type": "code",
   "execution_count": 28,
   "id": "fc62b4b6",
   "metadata": {
    "ExecuteTime": {
     "end_time": "2021-10-24T20:20:00.536469Z",
     "start_time": "2021-10-24T20:20:00.532952Z"
    }
   },
   "outputs": [],
   "source": [
    "k_best = 100\n",
    "\n",
    "pipe = Pipeline([\n",
    "    ('cat_encoder_', LeaveOneOutEncoder(cols=cat_cols)),\n",
    "    ('poly_featurizer_', PolynomialFeatures(degree=4)),\n",
    "    ('scaler_', StandardScaler()),\n",
    "    ('selector_', SelectKBest(score_func=mutual_info_classif, k=k_best)), \n",
    "    ('model_', SVC(kernel='linear'))]\n",
    ")"
   ]
  },
  {
   "cell_type": "code",
   "execution_count": 29,
   "id": "420e6db9",
   "metadata": {
    "ExecuteTime": {
     "end_time": "2021-10-24T20:20:18.022535Z",
     "start_time": "2021-10-24T20:20:06.144920Z"
    }
   },
   "outputs": [
    {
     "name": "stderr",
     "output_type": "stream",
     "text": [
      "c:\\programdata\\miniconda3\\lib\\site-packages\\category_encoders\\utils.py:21: FutureWarning: is_categorical is deprecated and will be removed in a future version.  Use is_categorical_dtype instead\n",
      "  elif pd.api.types.is_categorical(cols):\n",
      "c:\\programdata\\miniconda3\\lib\\site-packages\\category_encoders\\utils.py:21: FutureWarning: is_categorical is deprecated and will be removed in a future version.  Use is_categorical_dtype instead\n",
      "  elif pd.api.types.is_categorical(cols):\n",
      "c:\\programdata\\miniconda3\\lib\\site-packages\\category_encoders\\utils.py:21: FutureWarning: is_categorical is deprecated and will be removed in a future version.  Use is_categorical_dtype instead\n",
      "  elif pd.api.types.is_categorical(cols):\n",
      "c:\\programdata\\miniconda3\\lib\\site-packages\\category_encoders\\utils.py:21: FutureWarning: is_categorical is deprecated and will be removed in a future version.  Use is_categorical_dtype instead\n",
      "  elif pd.api.types.is_categorical(cols):\n",
      "c:\\programdata\\miniconda3\\lib\\site-packages\\category_encoders\\utils.py:21: FutureWarning: is_categorical is deprecated and will be removed in a future version.  Use is_categorical_dtype instead\n",
      "  elif pd.api.types.is_categorical(cols):\n"
     ]
    },
    {
     "data": {
      "text/plain": [
       "{'fit_time': array([4.56791615, 5.04232812, 5.85330677, 4.4480052 , 4.7117455 ]),\n",
       " 'score_time': array([0.01200581, 0.01699996, 0.01300287, 0.01400137, 0.01600385]),\n",
       " 'test_score': array([0.26666667, 0.60869565, 0.41666667, 0.36363636, 0.57142857]),\n",
       " 'train_score': array([0.82      , 0.66666667, 0.79591837, 0.75862069, 0.88235294])}"
      ]
     },
     "execution_count": 29,
     "metadata": {},
     "output_type": "execute_result"
    }
   ],
   "source": [
    "cv_res = cross_validate(pipe, X, y, cv=5, scoring='f1', return_train_score=True)\n",
    "cv_res"
   ]
  },
  {
   "cell_type": "code",
   "execution_count": 30,
   "id": "a2cdb237",
   "metadata": {
    "ExecuteTime": {
     "end_time": "2021-10-24T20:20:41.813570Z",
     "start_time": "2021-10-24T20:20:41.809915Z"
    }
   },
   "outputs": [
    {
     "data": {
      "text/plain": [
       "0.44541878411443625"
      ]
     },
     "execution_count": 30,
     "metadata": {},
     "output_type": "execute_result"
    }
   ],
   "source": [
    "# k best нужно подбирать\n",
    "\n",
    "cv_res['test_score'].mean()"
   ]
  },
  {
   "cell_type": "markdown",
   "id": "96bee3cd",
   "metadata": {},
   "source": [
    "## Жадный метод отбора"
   ]
  },
  {
   "cell_type": "code",
   "execution_count": 31,
   "id": "35170f0e",
   "metadata": {
    "ExecuteTime": {
     "end_time": "2021-10-24T20:20:53.902156Z",
     "start_time": "2021-10-24T20:20:53.899723Z"
    }
   },
   "outputs": [],
   "source": [
    "from sklearn.feature_selection import RFE\n",
    "from sklearn.linear_model import LogisticRegression"
   ]
  },
  {
   "cell_type": "code",
   "execution_count": 32,
   "id": "da1779fa",
   "metadata": {
    "ExecuteTime": {
     "end_time": "2021-10-24T20:25:10.673925Z",
     "start_time": "2021-10-24T20:25:10.671185Z"
    }
   },
   "outputs": [],
   "source": [
    "k_best = 50\n",
    "\n",
    "rfe = RFE(LogisticRegression(max_iter=1000), n_features_to_select=k_best, step=30)"
   ]
  },
  {
   "cell_type": "code",
   "execution_count": 33,
   "id": "e611b87e",
   "metadata": {
    "ExecuteTime": {
     "end_time": "2021-10-24T20:25:12.544188Z",
     "start_time": "2021-10-24T20:25:12.540659Z"
    }
   },
   "outputs": [
    {
     "data": {
      "text/plain": [
       "(800, 1001)"
      ]
     },
     "execution_count": 33,
     "metadata": {},
     "output_type": "execute_result"
    }
   ],
   "source": [
    "X_tr.shape"
   ]
  },
  {
   "cell_type": "code",
   "execution_count": 34,
   "id": "94f72041",
   "metadata": {
    "ExecuteTime": {
     "end_time": "2021-10-24T20:25:35.091025Z",
     "start_time": "2021-10-24T20:25:32.892926Z"
    }
   },
   "outputs": [
    {
     "data": {
      "text/plain": [
       "(800, 50)"
      ]
     },
     "metadata": {},
     "output_type": "display_data"
    },
    {
     "data": {
      "text/plain": [
       "array([[-0.98555744, -0.53089061, -0.93734374, ..., -0.40535388,\n",
       "        -0.52135831, -0.81966779],\n",
       "       [-0.48479877, -0.53089061, -0.84621022, ..., -0.16466941,\n",
       "        -0.18003271, -0.81698899],\n",
       "       [ 0.42451538, -0.53089061, -0.68419506, ...,  0.45023305,\n",
       "         0.73602435, -0.81341726],\n",
       "       ...,\n",
       "       [-0.16049792, -0.53089061,  1.16740671, ...,  3.97831918,\n",
       "         2.1076934 ,  4.18343684],\n",
       "       [-0.16049792, -0.53089061,  1.16740671, ...,  6.06069716,\n",
       "         2.51608978,  4.18343684],\n",
       "       [ 1.36562373, -0.53089061,  1.16740671, ...,  1.4680924 ,\n",
       "         0.19750623,  2.6404483 ]])"
      ]
     },
     "execution_count": 34,
     "metadata": {},
     "output_type": "execute_result"
    }
   ],
   "source": [
    "res = rfe.fit_transform(X_tr, y)\n",
    "display(res.shape)\n",
    "res"
   ]
  },
  {
   "cell_type": "code",
   "execution_count": 38,
   "id": "86480235",
   "metadata": {
    "ExecuteTime": {
     "end_time": "2021-10-24T20:27:58.635555Z",
     "start_time": "2021-10-24T20:27:58.632190Z"
    }
   },
   "outputs": [],
   "source": [
    "pipe_rfe = Pipeline([    \n",
    "    ('cat_encoder_', LeaveOneOutEncoder(cols=cat_cols)),\n",
    "    ('poly_featurizer_', PolynomialFeatures(degree=4)),\n",
    "    ('scaler_', StandardScaler()),\n",
    "    ('selector_', RFE(LogisticRegression(max_iter=1000),\n",
    "                      n_features_to_select=30,\n",
    "                      step=10\n",
    "                     )), \n",
    "    ('model_', SVC(kernel='linear'))])"
   ]
  },
  {
   "cell_type": "code",
   "execution_count": 39,
   "id": "b79dde57",
   "metadata": {
    "ExecuteTime": {
     "end_time": "2021-10-24T20:28:32.410710Z",
     "start_time": "2021-10-24T20:28:22.819441Z"
    }
   },
   "outputs": [
    {
     "name": "stderr",
     "output_type": "stream",
     "text": [
      "c:\\programdata\\miniconda3\\lib\\site-packages\\category_encoders\\utils.py:21: FutureWarning: is_categorical is deprecated and will be removed in a future version.  Use is_categorical_dtype instead\n",
      "  elif pd.api.types.is_categorical(cols):\n",
      "c:\\programdata\\miniconda3\\lib\\site-packages\\category_encoders\\utils.py:21: FutureWarning: is_categorical is deprecated and will be removed in a future version.  Use is_categorical_dtype instead\n",
      "  elif pd.api.types.is_categorical(cols):\n",
      "c:\\programdata\\miniconda3\\lib\\site-packages\\category_encoders\\utils.py:21: FutureWarning: is_categorical is deprecated and will be removed in a future version.  Use is_categorical_dtype instead\n",
      "  elif pd.api.types.is_categorical(cols):\n",
      "c:\\programdata\\miniconda3\\lib\\site-packages\\category_encoders\\utils.py:21: FutureWarning: is_categorical is deprecated and will be removed in a future version.  Use is_categorical_dtype instead\n",
      "  elif pd.api.types.is_categorical(cols):\n",
      "c:\\programdata\\miniconda3\\lib\\site-packages\\category_encoders\\utils.py:21: FutureWarning: is_categorical is deprecated and will be removed in a future version.  Use is_categorical_dtype instead\n",
      "  elif pd.api.types.is_categorical(cols):\n"
     ]
    },
    {
     "data": {
      "text/plain": [
       "{'fit_time': array([18.53746104, 22.14069128, 17.1071074 , 17.01407051, 18.47805548]),\n",
       " 'score_time': array([0.02500129, 0.03399396, 0.02699876, 0.02200127, 0.04100156]),\n",
       " 'test_score': array([0.47058824, 0.92307692, 0.71428571, 0.58333333, 0.6875    ]),\n",
       " 'train_score': array([0.91262136, 0.80434783, 0.95327103, 0.89361702, 0.92      ])}"
      ]
     },
     "execution_count": 39,
     "metadata": {},
     "output_type": "execute_result"
    }
   ],
   "source": [
    "cv_res3 = cross_validate(pipe_rfe, X, y, cv=5, scoring='f1', return_train_score=True)\n",
    "cv_res3"
   ]
  },
  {
   "cell_type": "code",
   "execution_count": 40,
   "id": "3b5cd4c4",
   "metadata": {
    "ExecuteTime": {
     "end_time": "2021-10-24T20:28:49.063014Z",
     "start_time": "2021-10-24T20:28:49.059094Z"
    }
   },
   "outputs": [
    {
     "data": {
      "text/plain": [
       "0.6757568411980176"
      ]
     },
     "execution_count": 40,
     "metadata": {},
     "output_type": "execute_result"
    }
   ],
   "source": [
    "cv_res3['test_score'].mean()"
   ]
  },
  {
   "cell_type": "markdown",
   "id": "49984ba9",
   "metadata": {},
   "source": [
    "## С помощью L1 регуляризации"
   ]
  },
  {
   "cell_type": "code",
   "execution_count": 41,
   "id": "0549efa7",
   "metadata": {
    "ExecuteTime": {
     "end_time": "2021-10-24T20:21:04.267409Z",
     "start_time": "2021-10-24T20:21:04.265012Z"
    }
   },
   "outputs": [],
   "source": [
    "from sklearn.feature_selection import SelectFromModel"
   ]
  },
  {
   "cell_type": "code",
   "execution_count": 42,
   "id": "3e8f05f6",
   "metadata": {
    "ExecuteTime": {
     "end_time": "2021-10-24T20:21:05.214768Z",
     "start_time": "2021-10-24T20:21:05.212084Z"
    }
   },
   "outputs": [],
   "source": [
    "sel = SelectFromModel(LogisticRegression(penalty='l1', max_iter=1000, solver='liblinear'), threshold=1e-5)"
   ]
  },
  {
   "cell_type": "code",
   "execution_count": 43,
   "id": "ad74ab5f",
   "metadata": {
    "ExecuteTime": {
     "end_time": "2021-10-24T20:21:06.595072Z",
     "start_time": "2021-10-24T20:21:06.468695Z"
    }
   },
   "outputs": [
    {
     "data": {
      "text/plain": [
       "(800, 48)"
      ]
     },
     "metadata": {},
     "output_type": "display_data"
    },
    {
     "data": {
      "text/plain": [
       "array([[-1.20562657, -0.94218651, -0.7732015 , ..., -0.52135831,\n",
       "        -0.72668962, -0.81966779],\n",
       "       [-1.20562657, -0.94218651, -0.33767384, ..., -0.18003271,\n",
       "        -0.70651232, -0.81698899],\n",
       "       [-1.20562657, -0.94218651,  0.6523422 , ...,  0.73602435,\n",
       "        -0.6731154 , -0.81341726],\n",
       "       ...,\n",
       "       [-1.20562657, -0.94218651,  0.80566326, ...,  2.1076934 ,\n",
       "         4.87819432,  4.18343684],\n",
       "       [-1.20562657, -0.94218651,  1.06849938, ...,  2.51608978,\n",
       "         4.87819432,  4.18343684],\n",
       "       [-1.20562657, -0.94218651,  2.2512619 , ...,  0.19750623,\n",
       "         1.93926564,  2.6404483 ]])"
      ]
     },
     "execution_count": 43,
     "metadata": {},
     "output_type": "execute_result"
    }
   ],
   "source": [
    "# пример\n",
    "\n",
    "res = sel.fit_transform(X_tr, y)\n",
    "display(res.shape)\n",
    "res"
   ]
  },
  {
   "cell_type": "code",
   "execution_count": 44,
   "id": "ea36b3e7",
   "metadata": {
    "ExecuteTime": {
     "end_time": "2021-10-24T20:21:07.682619Z",
     "start_time": "2021-10-24T20:21:07.679172Z"
    }
   },
   "outputs": [],
   "source": [
    "pipe_lasso =  Pipeline([\n",
    "    ('cat_encoder_', LeaveOneOutEncoder(cols=cat_cols)),\n",
    "    ('poly_featurizer_', PolynomialFeatures(degree=4)),\n",
    "    ('scaler_', StandardScaler()),\n",
    "    ('selector_', SelectFromModel(LogisticRegression(penalty='l1', max_iter=1000, solver='liblinear'), \n",
    "                                  threshold=1e-5)), \n",
    "    ('model_', SVC(kernel='linear'))])"
   ]
  },
  {
   "cell_type": "code",
   "execution_count": 45,
   "id": "d64eefd9",
   "metadata": {
    "ExecuteTime": {
     "end_time": "2021-10-24T20:21:11.587486Z",
     "start_time": "2021-10-24T20:21:11.070842Z"
    }
   },
   "outputs": [
    {
     "name": "stderr",
     "output_type": "stream",
     "text": [
      "c:\\programdata\\miniconda3\\lib\\site-packages\\category_encoders\\utils.py:21: FutureWarning: is_categorical is deprecated and will be removed in a future version.  Use is_categorical_dtype instead\n",
      "  elif pd.api.types.is_categorical(cols):\n",
      "c:\\programdata\\miniconda3\\lib\\site-packages\\category_encoders\\utils.py:21: FutureWarning: is_categorical is deprecated and will be removed in a future version.  Use is_categorical_dtype instead\n",
      "  elif pd.api.types.is_categorical(cols):\n",
      "c:\\programdata\\miniconda3\\lib\\site-packages\\category_encoders\\utils.py:21: FutureWarning: is_categorical is deprecated and will be removed in a future version.  Use is_categorical_dtype instead\n",
      "  elif pd.api.types.is_categorical(cols):\n",
      "c:\\programdata\\miniconda3\\lib\\site-packages\\category_encoders\\utils.py:21: FutureWarning: is_categorical is deprecated and will be removed in a future version.  Use is_categorical_dtype instead\n",
      "  elif pd.api.types.is_categorical(cols):\n",
      "c:\\programdata\\miniconda3\\lib\\site-packages\\category_encoders\\utils.py:21: FutureWarning: is_categorical is deprecated and will be removed in a future version.  Use is_categorical_dtype instead\n",
      "  elif pd.api.types.is_categorical(cols):\n"
     ]
    },
    {
     "data": {
      "text/plain": [
       "{'fit_time': array([0.15653229, 0.17102098, 0.14936399, 0.14299631, 0.15499997]),\n",
       " 'score_time': array([0.01003456, 0.01003432, 0.01496434, 0.01303506, 0.01400113]),\n",
       " 'test_score': array([0.44444444, 0.88      , 0.68965517, 0.60869565, 0.66666667]),\n",
       " 'train_score': array([0.92307692, 0.875     , 0.95238095, 0.93877551, 0.92929293])}"
      ]
     },
     "execution_count": 45,
     "metadata": {},
     "output_type": "execute_result"
    }
   ],
   "source": [
    "cv_res4 = cross_validate(pipe_lasso, X, y, cv=5, scoring='f1', return_train_score=True)\n",
    "cv_res4"
   ]
  },
  {
   "cell_type": "code",
   "execution_count": 46,
   "metadata": {},
   "outputs": [
    {
     "data": {
      "text/plain": [
       "0.6578923871397634"
      ]
     },
     "execution_count": 46,
     "metadata": {},
     "output_type": "execute_result"
    }
   ],
   "source": [
    "cv_res4['test_score'].mean()"
   ]
  },
  {
   "cell_type": "markdown",
   "metadata": {},
   "source": [
    "# Нелинейные классификаторы\n",
    "\n",
    "- SVM с ядром\n",
    "- Наивный байесовский классификатор\n",
    "- Метод k ближайших соседей"
   ]
  },
  {
   "cell_type": "code",
   "execution_count": 50,
   "metadata": {},
   "outputs": [],
   "source": [
    "pipe_lasso2 =  Pipeline([\n",
    "    ('cat_encoder_', LeaveOneOutEncoder(cols=cat_cols)),\n",
    "    ('poly_featurizer_', PolynomialFeatures(degree=4)),\n",
    "    ('scaler_', StandardScaler()),\n",
    "    ('selector_', SelectFromModel(LogisticRegression(penalty='l1', max_iter=1000, solver='liblinear'), \n",
    "                                  threshold=1e-5)), \n",
    "    ('model_', SVC(kernel='poly'))])"
   ]
  },
  {
   "cell_type": "code",
   "execution_count": 51,
   "metadata": {},
   "outputs": [
    {
     "name": "stderr",
     "output_type": "stream",
     "text": [
      "c:\\programdata\\miniconda3\\lib\\site-packages\\category_encoders\\utils.py:21: FutureWarning: is_categorical is deprecated and will be removed in a future version.  Use is_categorical_dtype instead\n",
      "  elif pd.api.types.is_categorical(cols):\n",
      "c:\\programdata\\miniconda3\\lib\\site-packages\\category_encoders\\utils.py:21: FutureWarning: is_categorical is deprecated and will be removed in a future version.  Use is_categorical_dtype instead\n",
      "  elif pd.api.types.is_categorical(cols):\n",
      "c:\\programdata\\miniconda3\\lib\\site-packages\\category_encoders\\utils.py:21: FutureWarning: is_categorical is deprecated and will be removed in a future version.  Use is_categorical_dtype instead\n",
      "  elif pd.api.types.is_categorical(cols):\n",
      "c:\\programdata\\miniconda3\\lib\\site-packages\\category_encoders\\utils.py:21: FutureWarning: is_categorical is deprecated and will be removed in a future version.  Use is_categorical_dtype instead\n",
      "  elif pd.api.types.is_categorical(cols):\n",
      "c:\\programdata\\miniconda3\\lib\\site-packages\\category_encoders\\utils.py:21: FutureWarning: is_categorical is deprecated and will be removed in a future version.  Use is_categorical_dtype instead\n",
      "  elif pd.api.types.is_categorical(cols):\n"
     ]
    },
    {
     "data": {
      "text/plain": [
       "{'fit_time': array([0.15363836, 0.16796732, 0.15197659, 0.16809916, 0.18603945]),\n",
       " 'score_time': array([0.01103783, 0.01204371, 0.01299667, 0.01296449, 0.01607919]),\n",
       " 'test_score': array([0.55555556, 0.7826087 , 0.56      , 0.45454545, 0.68421053]),\n",
       " 'train_score': array([0.79569892, 0.80898876, 0.9       , 0.91836735, 0.88659794])}"
      ]
     },
     "execution_count": 51,
     "metadata": {},
     "output_type": "execute_result"
    }
   ],
   "source": [
    "cv_res5 = cross_validate(pipe_lasso2, X, y, cv=5, scoring='f1', return_train_score=True)\n",
    "cv_res5"
   ]
  },
  {
   "cell_type": "code",
   "execution_count": 52,
   "metadata": {},
   "outputs": [
    {
     "data": {
      "text/plain": [
       "0.6073840464137946"
      ]
     },
     "execution_count": 52,
     "metadata": {},
     "output_type": "execute_result"
    }
   ],
   "source": [
    "cv_res5['test_score'].mean()"
   ]
  },
  {
   "cell_type": "markdown",
   "metadata": {},
   "source": [
    "Обучите наивный байесовский классификатор и метод k ближайших соседей вместо SVM в пайплайне выше. "
   ]
  },
  {
   "cell_type": "code",
   "execution_count": 53,
   "metadata": {},
   "outputs": [],
   "source": [
    "from sklearn.neighbors import KNeighborsClassifier\n",
    "from sklearn.naive_bayes import MultinomialNB, GaussianNB"
   ]
  },
  {
   "cell_type": "code",
   "execution_count": 88,
   "metadata": {},
   "outputs": [],
   "source": [
    "pipe_lasso3 =  Pipeline([\n",
    "    ('cat_encoder_', LeaveOneOutEncoder(cols=cat_cols)),\n",
    "    ('poly_featurizer_', PolynomialFeatures(degree=4)),\n",
    "    ('scaler_', StandardScaler()),\n",
    "    ('selector_', SelectFromModel(LogisticRegression(penalty='l1', max_iter=1000, solver='liblinear'), \n",
    "                                  threshold=1e-5)), \n",
    "    ('model_', GaussianNB())])"
   ]
  },
  {
   "cell_type": "code",
   "execution_count": 89,
   "metadata": {},
   "outputs": [
    {
     "name": "stderr",
     "output_type": "stream",
     "text": [
      "c:\\programdata\\miniconda3\\lib\\site-packages\\category_encoders\\utils.py:21: FutureWarning: is_categorical is deprecated and will be removed in a future version.  Use is_categorical_dtype instead\n",
      "  elif pd.api.types.is_categorical(cols):\n",
      "c:\\programdata\\miniconda3\\lib\\site-packages\\category_encoders\\utils.py:21: FutureWarning: is_categorical is deprecated and will be removed in a future version.  Use is_categorical_dtype instead\n",
      "  elif pd.api.types.is_categorical(cols):\n",
      "c:\\programdata\\miniconda3\\lib\\site-packages\\category_encoders\\utils.py:21: FutureWarning: is_categorical is deprecated and will be removed in a future version.  Use is_categorical_dtype instead\n",
      "  elif pd.api.types.is_categorical(cols):\n",
      "c:\\programdata\\miniconda3\\lib\\site-packages\\category_encoders\\utils.py:21: FutureWarning: is_categorical is deprecated and will be removed in a future version.  Use is_categorical_dtype instead\n",
      "  elif pd.api.types.is_categorical(cols):\n",
      "c:\\programdata\\miniconda3\\lib\\site-packages\\category_encoders\\utils.py:21: FutureWarning: is_categorical is deprecated and will be removed in a future version.  Use is_categorical_dtype instead\n",
      "  elif pd.api.types.is_categorical(cols):\n"
     ]
    },
    {
     "data": {
      "text/plain": [
       "0.49630038362918183"
      ]
     },
     "execution_count": 89,
     "metadata": {},
     "output_type": "execute_result"
    }
   ],
   "source": [
    "cv_res6 = cross_validate(pipe_lasso3, X, y, cv=5, scoring='f1', return_train_score=True)\n",
    "cv_res6['test_score'].mean()"
   ]
  },
  {
   "cell_type": "markdown",
   "metadata": {},
   "source": [
    "С помощью GridSearch подберите гиперпараметр KNN (число соседей) внутри пайплайна."
   ]
  },
  {
   "cell_type": "code",
   "execution_count": 82,
   "metadata": {},
   "outputs": [
    {
     "name": "stderr",
     "output_type": "stream",
     "text": [
      "c:\\programdata\\miniconda3\\lib\\site-packages\\category_encoders\\utils.py:21: FutureWarning: is_categorical is deprecated and will be removed in a future version.  Use is_categorical_dtype instead\n",
      "  elif pd.api.types.is_categorical(cols):\n"
     ]
    }
   ],
   "source": [
    "pipe_pre = pipe_lasso3[:-1]\n",
    "X_new = pipe_pre.fit_transform(X,y)"
   ]
  },
  {
   "cell_type": "code",
   "execution_count": 83,
   "metadata": {},
   "outputs": [
    {
     "data": {
      "text/plain": [
       "GridSearchCV(cv=5, estimator=KNeighborsClassifier(),\n",
       "             param_grid={'n_neighbors': array([2, 4, 6, 8])}, scoring='f1')"
      ]
     },
     "execution_count": 83,
     "metadata": {},
     "output_type": "execute_result"
    }
   ],
   "source": [
    "from sklearn.model_selection import GridSearchCV\n",
    "import numpy as np\n",
    "\n",
    "params = {'n_neighbors' : np.arange(2, 10, 2)}\n",
    "model = KNeighborsClassifier()\n",
    "\n",
    "gs = GridSearchCV(model, params, cv=5, scoring='f1')\n",
    "gs.fit(X_new, y)"
   ]
  },
  {
   "cell_type": "code",
   "execution_count": 85,
   "metadata": {},
   "outputs": [
    {
     "data": {
      "text/plain": [
       "(0.4222059838428125, KNeighborsClassifier(n_neighbors=2))"
      ]
     },
     "execution_count": 85,
     "metadata": {},
     "output_type": "execute_result"
    }
   ],
   "source": [
    "gs.best_score_, gs.best_estimator_"
   ]
  },
  {
   "cell_type": "markdown",
   "metadata": {},
   "source": [
    "# Сохранение и загрузка модели"
   ]
  },
  {
   "cell_type": "code",
   "execution_count": 90,
   "metadata": {},
   "outputs": [],
   "source": [
    "import pickle"
   ]
  },
  {
   "cell_type": "markdown",
   "metadata": {},
   "source": [
    "Обучим лучшую модель на всех данных и сохраним её в файл."
   ]
  },
  {
   "cell_type": "code",
   "execution_count": 91,
   "metadata": {},
   "outputs": [],
   "source": [
    "#your code here\n",
    "\n",
    "model = gs.best_estimator_"
   ]
  },
  {
   "cell_type": "markdown",
   "metadata": {},
   "source": [
    "Сохранение модели в файл"
   ]
  },
  {
   "cell_type": "code",
   "execution_count": 92,
   "metadata": {},
   "outputs": [],
   "source": [
    "filename = 'best_model.sav'\n",
    "pickle.dump(model, open(filename, 'wb'))"
   ]
  },
  {
   "cell_type": "markdown",
   "metadata": {},
   "source": [
    "Загрузка модели из файла"
   ]
  },
  {
   "cell_type": "code",
   "execution_count": 93,
   "metadata": {},
   "outputs": [],
   "source": [
    "loaded_model = pickle.load(open(filename, 'rb'))"
   ]
  },
  {
   "cell_type": "code",
   "execution_count": 94,
   "metadata": {},
   "outputs": [
    {
     "data": {
      "text/plain": [
       "KNeighborsClassifier(n_neighbors=2)"
      ]
     },
     "execution_count": 94,
     "metadata": {},
     "output_type": "execute_result"
    }
   ],
   "source": [
    "loaded_model"
   ]
  },
  {
   "cell_type": "markdown",
   "metadata": {},
   "source": [
    "Второй вариант"
   ]
  },
  {
   "cell_type": "code",
   "execution_count": 2,
   "metadata": {},
   "outputs": [],
   "source": [
    "import joblib\n",
    "\n",
    "filename = 'best_model.sav'\n",
    "joblib.dump(model, filename)\n",
    " \n",
    "loaded_model = joblib.load(filename)"
   ]
  },
  {
   "cell_type": "markdown",
   "metadata": {},
   "source": [
    "Почитать подробнее про сохранение модели в файл и загрузку из файла тут: https://machinelearningmastery.com/save-load-machine-learning-models-python-scikit-learn/"
   ]
  }
 ],
 "metadata": {
  "kernelspec": {
   "display_name": "Python 3",
   "language": "python",
   "name": "python3"
  },
  "language_info": {
   "codemirror_mode": {
    "name": "ipython",
    "version": 3
   },
   "file_extension": ".py",
   "mimetype": "text/x-python",
   "name": "python",
   "nbconvert_exporter": "python",
   "pygments_lexer": "ipython3",
   "version": "3.7.6"
  },
  "toc": {
   "base_numbering": 1,
   "nav_menu": {},
   "number_sections": true,
   "sideBar": true,
   "skip_h1_title": false,
   "title_cell": "Table of Contents",
   "title_sidebar": "Contents",
   "toc_cell": false,
   "toc_position": {},
   "toc_section_display": true,
   "toc_window_display": false
  }
 },
 "nbformat": 4,
 "nbformat_minor": 5
}
